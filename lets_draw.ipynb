{
 "cells": [
  {
   "cell_type": "code",
   "execution_count": 70,
   "id": "4aced44c",
   "metadata": {},
   "outputs": [],
   "source": [
    "import cv2, numpy as np, math"
   ]
  },
  {
   "cell_type": "code",
   "execution_count": 71,
   "id": "85b7d2d4",
   "metadata": {},
   "outputs": [],
   "source": [
    "\n",
    "a=300\n",
    "b=250\n",
    "r=50"
   ]
  },
  {
   "cell_type": "code",
   "execution_count": 72,
   "id": "54627db1",
   "metadata": {},
   "outputs": [],
   "source": [
    "window_name = 'Image'\n",
    "radius = r\n",
    "color = (255, 0, 0)\n",
    "thickness = 2\n"
   ]
  },
  {
   "cell_type": "code",
   "execution_count": 85,
   "id": "b988030f",
   "metadata": {},
   "outputs": [],
   "source": [
    "image=np.zeros((600,600,3))"
   ]
  },
  {
   "cell_type": "code",
   "execution_count": 86,
   "id": "0147da2d",
   "metadata": {},
   "outputs": [],
   "source": [
    "image = cv2.rectangle(image,(100,100), (500,200), (0,0,200),-1)\n",
    "image = cv2.rectangle(image,(100,100), (500,200), (0,0,0),2)\n",
    "image = cv2.rectangle(image,(100,200),(500,300), (255,255,255),-1)\n",
    "image = cv2.rectangle(image,(100,200), (500,300), (0,0,0),2)\n",
    "image = cv2.rectangle(image,(100,300), (500,400), (0,128,0),-1)\n",
    "image = cv2.rectangle(image,(100,300), (500,400), (0,0,0),2)    "
   ]
  },
  {
   "cell_type": "code",
   "execution_count": 87,
   "id": "651a04eb",
   "metadata": {},
   "outputs": [],
   "source": [
    "#circle\n",
    "\n",
    "image = cv2.circle(image, (a,b), radius, color, thickness)"
   ]
  },
  {
   "cell_type": "code",
   "execution_count": 88,
   "id": "518d10fa",
   "metadata": {},
   "outputs": [],
   "source": [
    "#line\n",
    "start_point = (a,b)\n",
    "end_point = (a+r,b)\n",
    "image = cv2.line(image, start_point, end_point, color, thickness)"
   ]
  },
  {
   "cell_type": "code",
   "execution_count": 89,
   "id": "f05b3f3f",
   "metadata": {},
   "outputs": [
    {
     "name": "stdout",
     "output_type": "stream",
     "text": [
      "13 48\n",
      "25 43\n",
      "35 35\n",
      "43 25\n",
      "48 13\n",
      "50 0\n",
      "48 -13\n",
      "43 -25\n",
      "35 -35\n",
      "25 -43\n",
      "13 -48\n",
      "0 -50\n",
      "-13 -48\n",
      "-25 -43\n",
      "-35 -35\n",
      "-43 -25\n",
      "-48 -13\n",
      "-50 0\n",
      "-48 13\n",
      "-43 25\n",
      "-35 35\n",
      "-25 43\n",
      "-13 48\n"
     ]
    }
   ],
   "source": [
    "for i in range(15,360,15):\n",
    "    sin = round(r*(math.sin(math.radians(i))))\n",
    "    cos = round(r*(math.cos(math.radians(i))))\n",
    "    print(sin,cos)\n",
    "    image = cv2.line(image, (a,b), (a+cos,b-sin), color, thickness)"
   ]
  },
  {
   "cell_type": "code",
   "execution_count": 92,
   "id": "bd30de7c",
   "metadata": {},
   "outputs": [],
   "source": [
    "\n",
    "cv2.imshow(\"National Flag\", image)\n",
    "cv2.waitKey(0)\n",
    "cv2.destroyAllWindows()"
   ]
  },
  {
   "cell_type": "code",
   "execution_count": null,
   "id": "e449f671",
   "metadata": {},
   "outputs": [],
   "source": []
  }
 ],
 "metadata": {
  "kernelspec": {
   "display_name": "Python 3",
   "language": "python",
   "name": "python3"
  },
  "language_info": {
   "codemirror_mode": {
    "name": "ipython",
    "version": 3
   },
   "file_extension": ".py",
   "mimetype": "text/x-python",
   "name": "python",
   "nbconvert_exporter": "python",
   "pygments_lexer": "ipython3",
   "version": "3.8.8"
  }
 },
 "nbformat": 4,
 "nbformat_minor": 5
}
