{
 "cells": [
  {
   "cell_type": "markdown",
   "id": "0636d98b",
   "metadata": {},
   "source": [
    "# how to crop an image"
   ]
  },
  {
   "cell_type": "code",
   "execution_count": 6,
   "id": "d30a3fae",
   "metadata": {},
   "outputs": [],
   "source": [
    "import cv2"
   ]
  },
  {
   "cell_type": "code",
   "execution_count": 7,
   "id": "d41039f6",
   "metadata": {},
   "outputs": [],
   "source": [
    "photo =cv2.imread('pikachu.jpg')"
   ]
  },
  {
   "cell_type": "code",
   "execution_count": 18,
   "id": "846ea0e3",
   "metadata": {},
   "outputs": [],
   "source": [
    "cphoto=photo[150:250,150:300]\n",
    "cv2.imshow(\"crop_image\",cphoto)\n",
    "cv2.waitKey()\n",
    "cv2.destroyAllWindows()"
   ]
  },
  {
   "cell_type": "code",
   "execution_count": null,
   "id": "6a85077e",
   "metadata": {},
   "outputs": [],
   "source": []
  },
  {
   "cell_type": "code",
   "execution_count": null,
   "id": "2093fb26",
   "metadata": {},
   "outputs": [],
   "source": []
  }
 ],
 "metadata": {
  "kernelspec": {
   "display_name": "Python 3",
   "language": "python",
   "name": "python3"
  },
  "language_info": {
   "codemirror_mode": {
    "name": "ipython",
    "version": 3
   },
   "file_extension": ".py",
   "mimetype": "text/x-python",
   "name": "python",
   "nbconvert_exporter": "python",
   "pygments_lexer": "ipython3",
   "version": "3.8.8"
  }
 },
 "nbformat": 4,
 "nbformat_minor": 5
}
