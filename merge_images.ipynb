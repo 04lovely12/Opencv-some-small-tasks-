{
 "cells": [
  {
   "cell_type": "markdown",
   "id": "98edada8",
   "metadata": {},
   "source": [
    "# how to  merge two images"
   ]
  },
  {
   "cell_type": "code",
   "execution_count": 22,
   "id": "478b1a66",
   "metadata": {},
   "outputs": [],
   "source": [
    "import cv2\n",
    "import numpy as np"
   ]
  },
  {
   "cell_type": "code",
   "execution_count": 23,
   "id": "79545655",
   "metadata": {},
   "outputs": [
    {
     "data": {
      "text/plain": [
       "(456, 474, 3)"
      ]
     },
     "execution_count": 23,
     "metadata": {},
     "output_type": "execute_result"
    }
   ],
   "source": [
    "#to read image and to get its dimensions we use:\n",
    "img1=cv2.imread(\"pikachu.jpg\")\n",
    "img1.shape"
   ]
  },
  {
   "cell_type": "code",
   "execution_count": 24,
   "id": "d4b19a8a",
   "metadata": {},
   "outputs": [],
   "source": [
    "#to display image:\n",
    "cv2.imshow(\"pikachu\",img1)\n",
    "#to hold on the imgae for a given time:\n",
    "cv2.waitKey(5000)\n",
    "#to to destroy the image or to close the window:\n",
    "cv2.destroyAllWindows()"
   ]
  },
  {
   "cell_type": "code",
   "execution_count": 25,
   "id": "23a4103c",
   "metadata": {},
   "outputs": [
    {
     "data": {
      "text/plain": [
       "(220, 186, 3)"
      ]
     },
     "execution_count": 25,
     "metadata": {},
     "output_type": "execute_result"
    }
   ],
   "source": [
    "#to read image and to get its dimensions we use:\n",
    "img2=cv2.imread(\"piggi.jpg\")\n",
    "img2.shape"
   ]
  },
  {
   "cell_type": "code",
   "execution_count": 28,
   "id": "4fe20bf1",
   "metadata": {},
   "outputs": [],
   "source": [
    "#to display image:\n",
    "cv2.imshow(\"piggi\",img2)\n",
    "#to hold on the imgae for a given time:\n",
    "cv2.waitKey(5000)\n",
    "#to to destroy the image or to close the window:\n",
    "cv2.destroyAllWindows()"
   ]
  },
  {
   "cell_type": "code",
   "execution_count": 29,
   "id": "45e55db6",
   "metadata": {},
   "outputs": [],
   "source": [
    "#crop image1 because size of image1 is greater than image2:\n",
    "cimg1=img1[100:320 ,150:336]"
   ]
  },
  {
   "cell_type": "code",
   "execution_count": 30,
   "id": "4ac8f761",
   "metadata": {},
   "outputs": [],
   "source": [
    "#to display image:\n",
    "cv2.imshow(\"pikachu\",cimg1)\n",
    "#to hold on the imgae for a given time:\n",
    "cv2.waitKey(5000)\n",
    "#to to destroy the image or to close the window:\n",
    "cv2.destroyAllWindows()"
   ]
  },
  {
   "cell_type": "code",
   "execution_count": 31,
   "id": "367e7cd5",
   "metadata": {},
   "outputs": [],
   "source": [
    "#merge the images horizontally:\n",
    "frame1=np.hstack((cimg1,img2))"
   ]
  },
  {
   "cell_type": "code",
   "execution_count": 32,
   "id": "3c658e02",
   "metadata": {},
   "outputs": [],
   "source": [
    "#to display image:\n",
    "cv2.imshow(\"merged_horizontally\",frame1)\n",
    "#to hold on the imgae for a given time:\n",
    "cv2.waitKey(5000)\n",
    "#to to destroy the image or to close the window:\n",
    "cv2.destroyAllWindows()"
   ]
  },
  {
   "cell_type": "code",
   "execution_count": 33,
   "id": "6d61f905",
   "metadata": {},
   "outputs": [],
   "source": [
    "#merge the images vertically:\n",
    "frame2=np.vstack((cimg1,img2))"
   ]
  },
  {
   "cell_type": "code",
   "execution_count": 34,
   "id": "19359107",
   "metadata": {},
   "outputs": [],
   "source": [
    "#to display image:\n",
    "cv2.imshow(\"merged_vertically\",frame2)\n",
    "#to hold on the imgae for a given time:\n",
    "cv2.waitKey(5000)\n",
    "#to to destroy the image or to close the window:\n",
    "cv2.destroyAllWindows()"
   ]
  },
  {
   "cell_type": "code",
   "execution_count": null,
   "id": "6126e7ba",
   "metadata": {},
   "outputs": [],
   "source": []
  }
 ],
 "metadata": {
  "kernelspec": {
   "display_name": "Python 3",
   "language": "python",
   "name": "python3"
  },
  "language_info": {
   "codemirror_mode": {
    "name": "ipython",
    "version": 3
   },
   "file_extension": ".py",
   "mimetype": "text/x-python",
   "name": "python",
   "nbconvert_exporter": "python",
   "pygments_lexer": "ipython3",
   "version": "3.8.8"
  }
 },
 "nbformat": 4,
 "nbformat_minor": 5
}
