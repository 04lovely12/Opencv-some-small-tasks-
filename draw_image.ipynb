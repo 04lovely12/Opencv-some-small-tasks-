{
 "cells": [
  {
   "cell_type": "markdown",
   "id": "ccc57ce8",
   "metadata": {},
   "source": [
    "# draw an image"
   ]
  },
  {
   "cell_type": "code",
   "execution_count": 366,
   "id": "cbdb9e14",
   "metadata": {},
   "outputs": [],
   "source": [
    "import cv2\n",
    "import numpy as np"
   ]
  },
  {
   "cell_type": "code",
   "execution_count": 388,
   "id": "c0878041",
   "metadata": {},
   "outputs": [],
   "source": [
    "image=np.zeros((600,600,3))"
   ]
  },
  {
   "cell_type": "code",
   "execution_count": 389,
   "id": "bd0e513d",
   "metadata": {},
   "outputs": [],
   "source": [
    "cv2.imshow(\"National Flag\",image)\n",
    "cv2.waitKey(100)\n",
    "cv2.destroyAllWindows()"
   ]
  },
  {
   "cell_type": "code",
   "execution_count": 400,
   "id": "8d7a3a02",
   "metadata": {},
   "outputs": [],
   "source": [
    "#image = cv2.rectangle(image, start_point, end_point, color, thickness)\n",
    "image = cv2.rectangle(image,(100,100), (500,200), (0,0,200),-1)\n",
    "image = cv2.rectangle(image,(100,100), (500,200), (0,0,0),2)\n",
    "image = cv2.rectangle(image,(100,200),(500,300), (255,255,255),-1)\n",
    "image = cv2.rectangle(image,(100,200), (500,300), (0,0,0),2)\n",
    "image = cv2.rectangle(image,(100,300), (500,400), (0,128,0),-1)\n",
    "image = cv2.rectangle(image,(100,300), (500,400), (0,0,0),2)\n",
    "#image = cv2.circle(image, center_coordinates, radius, color, thickness)\n",
    "image = cv2.circle(image, (300,250), 50, (255,0,0),-1)\n",
    "#image = cv2.line(image, start_point, end_point, color, thickness)\n",
    "#image = cv2.line(image, (250,250), (350,250), (255,0,0), 2)\n",
    "#image = cv2.line(image, (300,200), (300,300), (255,0,0), 2)\n",
    "\n"
   ]
  },
  {
   "cell_type": "code",
   "execution_count": 401,
   "id": "c7cb8617",
   "metadata": {},
   "outputs": [],
   "source": [
    "cv2.imshow(\"hi\",image)\n",
    "cv2.waitKey(0)\n",
    "cv2.destroyAllWindows()"
   ]
  },
  {
   "cell_type": "code",
   "execution_count": null,
   "id": "6798be1f",
   "metadata": {},
   "outputs": [],
   "source": []
  },
  {
   "cell_type": "code",
   "execution_count": null,
   "id": "cb11ff0d",
   "metadata": {},
   "outputs": [],
   "source": []
  }
 ],
 "metadata": {
  "kernelspec": {
   "display_name": "Python 3",
   "language": "python",
   "name": "python3"
  },
  "language_info": {
   "codemirror_mode": {
    "name": "ipython",
    "version": 3
   },
   "file_extension": ".py",
   "mimetype": "text/x-python",
   "name": "python",
   "nbconvert_exporter": "python",
   "pygments_lexer": "ipython3",
   "version": "3.8.8"
  }
 },
 "nbformat": 4,
 "nbformat_minor": 5
}
