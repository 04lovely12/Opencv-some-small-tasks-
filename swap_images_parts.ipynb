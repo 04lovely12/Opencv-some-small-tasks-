{
 "cells": [
  {
   "cell_type": "markdown",
   "id": "964de673",
   "metadata": {},
   "source": [
    "# how to swap crop parts of two images"
   ]
  },
  {
   "cell_type": "code",
   "execution_count": 53,
   "id": "ba167367",
   "metadata": {},
   "outputs": [],
   "source": [
    "import cv2\n",
    "import numpy as np"
   ]
  },
  {
   "cell_type": "code",
   "execution_count": 54,
   "id": "0ec7f5a1",
   "metadata": {},
   "outputs": [
    {
     "data": {
      "text/plain": [
       "(273, 182, 3)"
      ]
     },
     "execution_count": 54,
     "metadata": {},
     "output_type": "execute_result"
    }
   ],
   "source": [
    "#to read image and to get its dimensions we use:\n",
    "img1=cv2.imread(\"red.jpg\")\n",
    "img1.shape"
   ]
  },
  {
   "cell_type": "code",
   "execution_count": 55,
   "id": "2b67e5d5",
   "metadata": {},
   "outputs": [],
   "source": [
    "#to display image:\n",
    "cv2.imshow(\"cartoon_red\",img1)\n",
    "#to hold on the imgae for a given time:\n",
    "cv2.waitKey(2000)\n",
    "#to to destroy the image or to close the window:\n",
    "cv2.destroyAllWindows()"
   ]
  },
  {
   "cell_type": "code",
   "execution_count": 56,
   "id": "39b70acf",
   "metadata": {},
   "outputs": [
    {
     "data": {
      "text/plain": [
       "(260, 182, 3)"
      ]
     },
     "execution_count": 56,
     "metadata": {},
     "output_type": "execute_result"
    }
   ],
   "source": [
    "#to read image and to get its dimensions we use:\n",
    "img2=cv2.imread(\"orange.jpg\")\n",
    "img2.shape"
   ]
  },
  {
   "cell_type": "code",
   "execution_count": 57,
   "id": "c66ef5f0",
   "metadata": {},
   "outputs": [],
   "source": [
    "#to display image:\n",
    "cv2.imshow(\"cartoon_orange\",img2)\n",
    "#to hold on the imgae for a given time:\n",
    "cv2.waitKey(2000)\n",
    "#to to destroy the image or to close the window:\n",
    "cv2.destroyAllWindows()"
   ]
  },
  {
   "cell_type": "code",
   "execution_count": 58,
   "id": "e611b908",
   "metadata": {},
   "outputs": [
    {
     "data": {
      "text/plain": [
       "(260, 182, 3)"
      ]
     },
     "execution_count": 58,
     "metadata": {},
     "output_type": "execute_result"
    }
   ],
   "source": [
    "#crop image1 because size of image1 is greater than image2:\n",
    "cimg1=img1[0:260 , :]\n",
    "cimg1.shape"
   ]
  },
  {
   "cell_type": "code",
   "execution_count": 59,
   "id": "9336f906",
   "metadata": {},
   "outputs": [],
   "source": [
    "#to display image:\n",
    "cv2.imshow(\"cartoon_red\",cimg1)\n",
    "#to hold on the imgae for a given time:\n",
    "cv2.waitKey(2000)\n",
    "#to to destroy the image or to close the window:\n",
    "cv2.destroyAllWindows()"
   ]
  },
  {
   "cell_type": "code",
   "execution_count": 65,
   "id": "3dbdb540",
   "metadata": {},
   "outputs": [],
   "source": [
    "before_swap=np.hstack((cimg1,img2))"
   ]
  },
  {
   "cell_type": "code",
   "execution_count": null,
   "id": "1f55ef68",
   "metadata": {},
   "outputs": [],
   "source": [
    "#to display image:\n",
    "cv2.imshow(\"before_swapping\",before_swap)\n",
    "#to hold on the imgae for a given time:\n",
    "cv2.waitKey(10000)\n",
    "#to to destroy the image or to close the window:\n",
    "cv2.destroyAllWindows()"
   ]
  },
  {
   "cell_type": "code",
   "execution_count": 67,
   "id": "6e137d5d",
   "metadata": {},
   "outputs": [],
   "source": [
    "cimg1[50:150,50:150]=cimg1[50:150,50:150]+img2[50:150,50:150]\n",
    "img2[50:150,50:150]=cimg1[50:150,50:150]-img2[50:150,50:150]\n",
    "cimg1[50:150,50:150]=cimg1[50:150,50:150]-img2[50:150,50:150]\n"
   ]
  },
  {
   "cell_type": "code",
   "execution_count": 63,
   "id": "474b653c",
   "metadata": {},
   "outputs": [],
   "source": [
    "after_swap=np.hstack((cimg1,img2))"
   ]
  },
  {
   "cell_type": "code",
   "execution_count": 64,
   "id": "1a955fc3",
   "metadata": {},
   "outputs": [],
   "source": [
    "#to display image:\n",
    "cv2.imshow(\"after_swapping\",after_swap)\n",
    "#to hold on the imgae for a given time:\n",
    "cv2.waitKey(5000)\n",
    "#to to destroy the image or to close the window:\n",
    "cv2.destroyAllWindows()"
   ]
  },
  {
   "cell_type": "code",
   "execution_count": null,
   "id": "038dc733",
   "metadata": {},
   "outputs": [],
   "source": []
  },
  {
   "cell_type": "code",
   "execution_count": null,
   "id": "65d285ff",
   "metadata": {},
   "outputs": [],
   "source": []
  },
  {
   "cell_type": "code",
   "execution_count": null,
   "id": "0ccc8a59",
   "metadata": {},
   "outputs": [],
   "source": []
  }
 ],
 "metadata": {
  "kernelspec": {
   "display_name": "Python 3",
   "language": "python",
   "name": "python3"
  },
  "language_info": {
   "codemirror_mode": {
    "name": "ipython",
    "version": 3
   },
   "file_extension": ".py",
   "mimetype": "text/x-python",
   "name": "python",
   "nbconvert_exporter": "python",
   "pygments_lexer": "ipython3",
   "version": "3.8.8"
  }
 },
 "nbformat": 4,
 "nbformat_minor": 5
}
