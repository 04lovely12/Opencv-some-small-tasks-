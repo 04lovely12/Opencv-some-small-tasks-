{
 "cells": [
  {
   "cell_type": "markdown",
   "id": "77096b64",
   "metadata": {},
   "source": [
    "# how to change color image to gray"
   ]
  },
  {
   "cell_type": "code",
   "execution_count": 3,
   "id": "d8e0f40f",
   "metadata": {},
   "outputs": [],
   "source": [
    "import cv2"
   ]
  },
  {
   "cell_type": "code",
   "execution_count": 11,
   "id": "9ceb73b7",
   "metadata": {},
   "outputs": [],
   "source": [
    "photo = cv2.imread(\"pikachu.jpg\")"
   ]
  },
  {
   "cell_type": "code",
   "execution_count": 14,
   "id": "1ddc0816",
   "metadata": {},
   "outputs": [],
   "source": [
    "cphoto = cv2.cvtColor(photo, cv2.COLOR_BGR2GRAY)\n",
    "cv2.imshow('pikachu',cphoto)\n",
    "cv2.waitKey()\n",
    "cv2.destroyAllWindows()"
   ]
  },
  {
   "cell_type": "code",
   "execution_count": null,
   "id": "f7ec5f1f",
   "metadata": {},
   "outputs": [],
   "source": []
  }
 ],
 "metadata": {
  "kernelspec": {
   "display_name": "Python 3",
   "language": "python",
   "name": "python3"
  },
  "language_info": {
   "codemirror_mode": {
    "name": "ipython",
    "version": 3
   },
   "file_extension": ".py",
   "mimetype": "text/x-python",
   "name": "python",
   "nbconvert_exporter": "python",
   "pygments_lexer": "ipython3",
   "version": "3.8.8"
  }
 },
 "nbformat": 4,
 "nbformat_minor": 5
}
