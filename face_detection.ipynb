{
 "cells": [
  {
   "cell_type": "markdown",
   "id": "1582c3bf",
   "metadata": {},
   "source": [
    "# how to detect a face"
   ]
  },
  {
   "cell_type": "code",
   "execution_count": 1,
   "id": "8d5c3223",
   "metadata": {},
   "outputs": [],
   "source": [
    "import cv2"
   ]
  },
  {
   "cell_type": "code",
   "execution_count": 17,
   "id": "cb67b455",
   "metadata": {},
   "outputs": [],
   "source": [
    "photo=cv2.imread(\"lovely.jpg\")"
   ]
  },
  {
   "cell_type": "code",
   "execution_count": 18,
   "id": "558eab7f",
   "metadata": {},
   "outputs": [
    {
     "data": {
      "text/plain": [
       "-1"
      ]
     },
     "execution_count": 18,
     "metadata": {},
     "output_type": "execute_result"
    }
   ],
   "source": [
    "cv2.imshow(\"My Picture\",photo)\n",
    "cv2.waitKey(0)"
   ]
  },
  {
   "cell_type": "code",
   "execution_count": 19,
   "id": "afcd3e72",
   "metadata": {},
   "outputs": [],
   "source": [
    "cap = cv2.VideoCapture(0)"
   ]
  },
  {
   "cell_type": "code",
   "execution_count": 20,
   "id": "07472cda",
   "metadata": {},
   "outputs": [],
   "source": [
    "model=cv2.CascadeClassifier('haarcascade_frontalface_default.xml')"
   ]
  },
  {
   "cell_type": "code",
   "execution_count": 21,
   "id": "08ef26ae",
   "metadata": {},
   "outputs": [
    {
     "data": {
      "text/plain": [
       "<CascadeClassifier 0000019EFA99E9F0>"
      ]
     },
     "execution_count": 21,
     "metadata": {},
     "output_type": "execute_result"
    }
   ],
   "source": [
    "model"
   ]
  },
  {
   "cell_type": "code",
   "execution_count": 22,
   "id": "855d51d7",
   "metadata": {},
   "outputs": [],
   "source": [
    "faces = model.detectMultiScale(photo)"
   ]
  },
  {
   "cell_type": "code",
   "execution_count": null,
   "id": "946b07aa",
   "metadata": {},
   "outputs": [],
   "source": [
    "faces = model.detectMultiScale(photo)\n",
    "x1 = faces[0][0]\n",
    "y1 = faces[0][1]\n",
    "x2 = x1 + faces[0][2]\n",
    "y2 = y1 + faces[0][3]\n",
    "pic = cv2.rectangle(photo,(x1,y1),(x2,y2),[0,255,0],3)\n",
    "cv2.imshow(\"My Picture\",pic)\n",
    "cv2.waitKey(0)"
   ]
  },
  {
   "cell_type": "code",
   "execution_count": null,
   "id": "f83b3d09",
   "metadata": {},
   "outputs": [],
   "source": []
  }
 ],
 "metadata": {
  "kernelspec": {
   "display_name": "Python 3",
   "language": "python",
   "name": "python3"
  },
  "language_info": {
   "codemirror_mode": {
    "name": "ipython",
    "version": 3
   },
   "file_extension": ".py",
   "mimetype": "text/x-python",
   "name": "python",
   "nbconvert_exporter": "python",
   "pygments_lexer": "ipython3",
   "version": "3.8.8"
  }
 },
 "nbformat": 4,
 "nbformat_minor": 5
}
